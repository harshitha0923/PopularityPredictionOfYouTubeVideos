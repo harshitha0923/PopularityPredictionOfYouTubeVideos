{
 "cells": [
  {
   "cell_type": "code",
   "execution_count": 9,
   "metadata": {},
   "outputs": [
    {
     "name": "stdout",
     "output_type": "stream",
     "text": [
      "(2938, 12)\n"
     ]
    },
    {
     "data": {
      "text/html": [
       "<div>\n",
       "<style scoped>\n",
       "    .dataframe tbody tr th:only-of-type {\n",
       "        vertical-align: middle;\n",
       "    }\n",
       "\n",
       "    .dataframe tbody tr th {\n",
       "        vertical-align: top;\n",
       "    }\n",
       "\n",
       "    .dataframe thead th {\n",
       "        text-align: right;\n",
       "    }\n",
       "</style>\n",
       "<table border=\"1\" class=\"dataframe\">\n",
       "  <thead>\n",
       "    <tr style=\"text-align: right;\">\n",
       "      <th></th>\n",
       "      <th>categoryId</th>\n",
       "      <th>channelId</th>\n",
       "      <th>channelTitle</th>\n",
       "      <th>commentCount</th>\n",
       "      <th>dislikeCount</th>\n",
       "      <th>likeCount</th>\n",
       "      <th>publishedat</th>\n",
       "      <th>subscriberCount</th>\n",
       "      <th>tags</th>\n",
       "      <th>title</th>\n",
       "      <th>videoId</th>\n",
       "      <th>viewCount</th>\n",
       "    </tr>\n",
       "  </thead>\n",
       "  <tbody>\n",
       "    <tr>\n",
       "      <th>0</th>\n",
       "      <td>NaN</td>\n",
       "      <td>NaN</td>\n",
       "      <td>NaN</td>\n",
       "      <td>NaN</td>\n",
       "      <td>NaN</td>\n",
       "      <td>NaN</td>\n",
       "      <td>NaN</td>\n",
       "      <td>NaN</td>\n",
       "      <td>NaN</td>\n",
       "      <td>NaN</td>\n",
       "      <td>NaN</td>\n",
       "      <td>NaN</td>\n",
       "    </tr>\n",
       "    <tr>\n",
       "      <th>1</th>\n",
       "      <td>22</td>\n",
       "      <td>UCogMqojFxwDqvz2OBNTJkjg</td>\n",
       "      <td>Odia Beauty &amp; Lifestyle</td>\n",
       "      <td>2010</td>\n",
       "      <td>198</td>\n",
       "      <td>11737</td>\n",
       "      <td>2020-10-28T04:07:13Z</td>\n",
       "      <td>114000</td>\n",
       "      <td>['Odia Vlogger Ritu', 'Odia Vlogger Rashmita',...</td>\n",
       "      <td>ଜୀବନର ସବୁଠୁ ବଡ ଦୁଃଖ|Odia Beauty &amp;amp; Lifestyle</td>\n",
       "      <td>TXr11CvOze4</td>\n",
       "      <td>162653</td>\n",
       "    </tr>\n",
       "    <tr>\n",
       "      <th>3</th>\n",
       "      <td>26</td>\n",
       "      <td>UC2etEuPIfohP4P53wM0KImA</td>\n",
       "      <td>5-Minute Crafts GIRLY</td>\n",
       "      <td>1030</td>\n",
       "      <td>3250</td>\n",
       "      <td>30524</td>\n",
       "      <td>2020-09-27T00:00:01Z</td>\n",
       "      <td>19500000</td>\n",
       "      <td>['women', 'girly', 'proyectos faciles', '5-min...</td>\n",
       "      <td>27 Beauty And Makeup Hacks For Girls</td>\n",
       "      <td>EkGOC5gs1ao</td>\n",
       "      <td>3338010</td>\n",
       "    </tr>\n",
       "    <tr>\n",
       "      <th>5</th>\n",
       "      <td>26</td>\n",
       "      <td>UC63mNFJR8EAb8wAIJwoCmTA</td>\n",
       "      <td>5-Minute Crafts FAMILY</td>\n",
       "      <td>993</td>\n",
       "      <td>3021</td>\n",
       "      <td>33053</td>\n",
       "      <td>2020-09-14T08:17:53Z</td>\n",
       "      <td>10800000</td>\n",
       "      <td>['parents', 'how to', 'howto', 'tutorial', 'ch...</td>\n",
       "      <td>Incredible Beauty Hacks For Girls</td>\n",
       "      <td>0EDhpTTehOw</td>\n",
       "      <td>3873510</td>\n",
       "    </tr>\n",
       "    <tr>\n",
       "      <th>7</th>\n",
       "      <td>1</td>\n",
       "      <td>UC9nKeBeLeRGuwy1lsYU8wlg</td>\n",
       "      <td>Dream Stories TV Adventure</td>\n",
       "      <td>538</td>\n",
       "      <td>5378</td>\n",
       "      <td>17424</td>\n",
       "      <td>2020-10-08T04:15:01Z</td>\n",
       "      <td>4500000</td>\n",
       "      <td>['Hindi Stories', 'Latest kahaniya', 'Kahani',...</td>\n",
       "      <td>चुड़ैल का ब्यूटी पार्लर | Haunted Beauty Parlou...</td>\n",
       "      <td>46uRx5UmWTU</td>\n",
       "      <td>3196671</td>\n",
       "    </tr>\n",
       "  </tbody>\n",
       "</table>\n",
       "</div>"
      ],
      "text/plain": [
       "  categoryId                 channelId                channelTitle  \\\n",
       "0        NaN                       NaN                         NaN   \n",
       "1         22  UCogMqojFxwDqvz2OBNTJkjg     Odia Beauty & Lifestyle   \n",
       "3         26  UC2etEuPIfohP4P53wM0KImA       5-Minute Crafts GIRLY   \n",
       "5         26  UC63mNFJR8EAb8wAIJwoCmTA      5-Minute Crafts FAMILY   \n",
       "7          1  UC9nKeBeLeRGuwy1lsYU8wlg  Dream Stories TV Adventure   \n",
       "\n",
       "  commentCount dislikeCount likeCount           publishedat subscriberCount  \\\n",
       "0          NaN          NaN       NaN                   NaN             NaN   \n",
       "1         2010          198     11737  2020-10-28T04:07:13Z          114000   \n",
       "3         1030         3250     30524  2020-09-27T00:00:01Z        19500000   \n",
       "5          993         3021     33053  2020-09-14T08:17:53Z        10800000   \n",
       "7          538         5378     17424  2020-10-08T04:15:01Z         4500000   \n",
       "\n",
       "                                                tags  \\\n",
       "0                                                NaN   \n",
       "1  ['Odia Vlogger Ritu', 'Odia Vlogger Rashmita',...   \n",
       "3  ['women', 'girly', 'proyectos faciles', '5-min...   \n",
       "5  ['parents', 'how to', 'howto', 'tutorial', 'ch...   \n",
       "7  ['Hindi Stories', 'Latest kahaniya', 'Kahani',...   \n",
       "\n",
       "                                               title      videoId viewCount  \n",
       "0                                                NaN          NaN       NaN  \n",
       "1    ଜୀବନର ସବୁଠୁ ବଡ ଦୁଃଖ|Odia Beauty &amp; Lifestyle  TXr11CvOze4    162653  \n",
       "3               27 Beauty And Makeup Hacks For Girls  EkGOC5gs1ao   3338010  \n",
       "5                  Incredible Beauty Hacks For Girls  0EDhpTTehOw   3873510  \n",
       "7  चुड़ैल का ब्यूटी पार्लर | Haunted Beauty Parlou...  46uRx5UmWTU   3196671  "
      ]
     },
     "execution_count": 9,
     "metadata": {},
     "output_type": "execute_result"
    }
   ],
   "source": [
    "%matplotlib inline\n",
    "import numpy as np\n",
    "import pandas as pd\n",
    "import matplotlib.pyplot as plt\n",
    "plt.rcParams['figure.figsize'] = (20.0, 10.0)\n",
    "from mpl_toolkits.mplot3d import Axes3D\n",
    "data = pd.read_csv(r'yt.csv').drop_duplicates(subset=['title'])\n",
    "print(data.shape)\n",
    "data.head()"
   ]
  },
  {
   "cell_type": "code",
   "execution_count": 10,
   "metadata": {},
   "outputs": [
    {
     "data": {
      "text/plain": [
       "categoryId         1\n",
       "channelId          1\n",
       "channelTitle       1\n",
       "commentCount       1\n",
       "dislikeCount       1\n",
       "likeCount          1\n",
       "publishedat        1\n",
       "subscriberCount    1\n",
       "tags               1\n",
       "title              1\n",
       "videoId            1\n",
       "viewCount          1\n",
       "dtype: int64"
      ]
     },
     "execution_count": 10,
     "metadata": {},
     "output_type": "execute_result"
    }
   ],
   "source": [
    "data.isna().sum()"
   ]
  },
  {
   "cell_type": "code",
   "execution_count": 11,
   "metadata": {},
   "outputs": [],
   "source": [
    "data['commentCount'] = pd.to_numeric(data['commentCount'], errors='coerce')\n",
    "data['likeCount'] = pd.to_numeric(data['likeCount'], errors='coerce')\n",
    "data['viewCount'] = pd.to_numeric(data['viewCount'], errors='coerce')\n",
    "data['dislikeCount'] = pd.to_numeric(data['dislikeCount'], errors='coerce')\n",
    "data['subscriberCount'] = pd.to_numeric(data['subscriberCount'], errors='coerce')\n",
    "data['categoryId'] = pd.to_numeric(data['categoryId'], errors='coerce')\n",
    "data = pd.DataFrame(data,columns= ['viewCount', 'likeCount','commentCount','dislikeCount','subscriberCount','categoryId'])"
   ]
  },
  {
   "cell_type": "code",
   "execution_count": 12,
   "metadata": {},
   "outputs": [
    {
     "name": "stdout",
     "output_type": "stream",
     "text": [
      "(107, 6)\n",
      "(781, 6)\n",
      "(71, 6)\n",
      "(388, 6)\n",
      "(190, 6)\n",
      "(45, 6)\n"
     ]
    },
    {
     "data": {
      "text/html": [
       "<div>\n",
       "<style scoped>\n",
       "    .dataframe tbody tr th:only-of-type {\n",
       "        vertical-align: middle;\n",
       "    }\n",
       "\n",
       "    .dataframe tbody tr th {\n",
       "        vertical-align: top;\n",
       "    }\n",
       "\n",
       "    .dataframe thead th {\n",
       "        text-align: right;\n",
       "    }\n",
       "</style>\n",
       "<table border=\"1\" class=\"dataframe\">\n",
       "  <thead>\n",
       "    <tr style=\"text-align: right;\">\n",
       "      <th></th>\n",
       "      <th>viewCount</th>\n",
       "      <th>likeCount</th>\n",
       "      <th>commentCount</th>\n",
       "      <th>dislikeCount</th>\n",
       "      <th>subscriberCount</th>\n",
       "      <th>categoryId</th>\n",
       "    </tr>\n",
       "  </thead>\n",
       "  <tbody>\n",
       "    <tr>\n",
       "      <th>149</th>\n",
       "      <td>9561711.0</td>\n",
       "      <td>143882.0</td>\n",
       "      <td>5532.0</td>\n",
       "      <td>5898.0</td>\n",
       "      <td>1490000.0</td>\n",
       "      <td>23.0</td>\n",
       "    </tr>\n",
       "    <tr>\n",
       "      <th>231</th>\n",
       "      <td>29392974.0</td>\n",
       "      <td>327413.0</td>\n",
       "      <td>5449.0</td>\n",
       "      <td>21544.0</td>\n",
       "      <td>8330000.0</td>\n",
       "      <td>23.0</td>\n",
       "    </tr>\n",
       "    <tr>\n",
       "      <th>339</th>\n",
       "      <td>1380592.0</td>\n",
       "      <td>53790.0</td>\n",
       "      <td>687.0</td>\n",
       "      <td>1345.0</td>\n",
       "      <td>1350000.0</td>\n",
       "      <td>23.0</td>\n",
       "    </tr>\n",
       "    <tr>\n",
       "      <th>391</th>\n",
       "      <td>41938706.0</td>\n",
       "      <td>604161.0</td>\n",
       "      <td>109924.0</td>\n",
       "      <td>21140.0</td>\n",
       "      <td>15900000.0</td>\n",
       "      <td>23.0</td>\n",
       "    </tr>\n",
       "    <tr>\n",
       "      <th>411</th>\n",
       "      <td>253751.0</td>\n",
       "      <td>18979.0</td>\n",
       "      <td>1251.0</td>\n",
       "      <td>1098.0</td>\n",
       "      <td>972000.0</td>\n",
       "      <td>23.0</td>\n",
       "    </tr>\n",
       "    <tr>\n",
       "      <th>...</th>\n",
       "      <td>...</td>\n",
       "      <td>...</td>\n",
       "      <td>...</td>\n",
       "      <td>...</td>\n",
       "      <td>...</td>\n",
       "      <td>...</td>\n",
       "    </tr>\n",
       "    <tr>\n",
       "      <th>13241</th>\n",
       "      <td>152837.0</td>\n",
       "      <td>2037.0</td>\n",
       "      <td>77.0</td>\n",
       "      <td>82.0</td>\n",
       "      <td>137000.0</td>\n",
       "      <td>19.0</td>\n",
       "    </tr>\n",
       "    <tr>\n",
       "      <th>13671</th>\n",
       "      <td>6312.0</td>\n",
       "      <td>787.0</td>\n",
       "      <td>74.0</td>\n",
       "      <td>5.0</td>\n",
       "      <td>598000.0</td>\n",
       "      <td>19.0</td>\n",
       "    </tr>\n",
       "    <tr>\n",
       "      <th>13751</th>\n",
       "      <td>6733.0</td>\n",
       "      <td>674.0</td>\n",
       "      <td>213.0</td>\n",
       "      <td>22.0</td>\n",
       "      <td>127000.0</td>\n",
       "      <td>19.0</td>\n",
       "    </tr>\n",
       "    <tr>\n",
       "      <th>13759</th>\n",
       "      <td>4373.0</td>\n",
       "      <td>210.0</td>\n",
       "      <td>21.0</td>\n",
       "      <td>6.0</td>\n",
       "      <td>34300.0</td>\n",
       "      <td>19.0</td>\n",
       "    </tr>\n",
       "    <tr>\n",
       "      <th>13761</th>\n",
       "      <td>6671.0</td>\n",
       "      <td>593.0</td>\n",
       "      <td>76.0</td>\n",
       "      <td>2.0</td>\n",
       "      <td>141000.0</td>\n",
       "      <td>19.0</td>\n",
       "    </tr>\n",
       "  </tbody>\n",
       "</table>\n",
       "<p>1582 rows × 6 columns</p>\n",
       "</div>"
      ],
      "text/plain": [
       "        viewCount  likeCount  commentCount  dislikeCount  subscriberCount  \\\n",
       "149     9561711.0   143882.0        5532.0        5898.0        1490000.0   \n",
       "231    29392974.0   327413.0        5449.0       21544.0        8330000.0   \n",
       "339     1380592.0    53790.0         687.0        1345.0        1350000.0   \n",
       "391    41938706.0   604161.0      109924.0       21140.0       15900000.0   \n",
       "411      253751.0    18979.0        1251.0        1098.0         972000.0   \n",
       "...           ...        ...           ...           ...              ...   \n",
       "13241    152837.0     2037.0          77.0          82.0         137000.0   \n",
       "13671      6312.0      787.0          74.0           5.0         598000.0   \n",
       "13751      6733.0      674.0         213.0          22.0         127000.0   \n",
       "13759      4373.0      210.0          21.0           6.0          34300.0   \n",
       "13761      6671.0      593.0          76.0           2.0         141000.0   \n",
       "\n",
       "       categoryId  \n",
       "149          23.0  \n",
       "231          23.0  \n",
       "339          23.0  \n",
       "391          23.0  \n",
       "411          23.0  \n",
       "...           ...  \n",
       "13241        19.0  \n",
       "13671        19.0  \n",
       "13751        19.0  \n",
       "13759        19.0  \n",
       "13761        19.0  \n",
       "\n",
       "[1582 rows x 6 columns]"
      ]
     },
     "execution_count": 12,
     "metadata": {},
     "output_type": "execute_result"
    }
   ],
   "source": [
    "data2 = data[data.categoryId==24]\n",
    "data1 = data[data.categoryId==23]\n",
    "data3 = data[data.categoryId==20]\n",
    "data4 = data[data.categoryId==22]\n",
    "data5 = data[data.categoryId==1]\n",
    "data6 = data[data.categoryId==19]\n",
    "print(data1.shape)\n",
    "print(data2.shape)\n",
    "print(data3.shape)\n",
    "print(data4.shape)\n",
    "print(data5.shape)\n",
    "print(data6.shape)\n",
    "\n",
    "data1=data1.append(data2)\n",
    "data1=data1.append(data3)\n",
    "data1=data1.append(data4)\n",
    "data1=data1.append(data5)\n",
    "data1=data1.append(data6)\n",
    "data1.shape\n",
    "data1"
   ]
  },
  {
   "cell_type": "code",
   "execution_count": 13,
   "metadata": {},
   "outputs": [
    {
     "data": {
      "text/plain": [
       "(1461, 7)"
      ]
     },
     "execution_count": 13,
     "metadata": {},
     "output_type": "execute_result"
    }
   ],
   "source": [
    "data1=data1.reset_index(drop=True)\n",
    "data1 = data1[data1.subscriberCount!= 0]\n",
    "pc=list()\n",
    "for i in data1.index:\n",
    "    pc.append(data1['likeCount'][i]/data1['viewCount'][i]) \n",
    "data1['ratio']=pc\n",
    "data1\n",
    "data1=data1.dropna()\n",
    "data1.shape"
   ]
  },
  {
   "cell_type": "code",
   "execution_count": 14,
   "metadata": {},
   "outputs": [],
   "source": [
    "data1.isna().sum()\n",
    "data1=data1.dropna()"
   ]
  },
  {
   "cell_type": "code",
   "execution_count": 15,
   "metadata": {},
   "outputs": [
    {
     "data": {
      "text/plain": [
       "1461"
      ]
     },
     "execution_count": 15,
     "metadata": {},
     "output_type": "execute_result"
    }
   ],
   "source": [
    "len(data1['ratio'])"
   ]
  },
  {
   "cell_type": "code",
   "execution_count": 17,
   "metadata": {},
   "outputs": [
    {
     "data": {
      "text/plain": [
       "<matplotlib.collections.PathCollection at 0x20ac683ab08>"
      ]
     },
     "execution_count": 17,
     "metadata": {},
     "output_type": "execute_result"
    },
    {
     "data": {
      "image/png": "[encoded data removed]",
      "text/plain": [
       "<Figure size 1440x720 with 1 Axes>"
      ]
     },
     "metadata": {
      "needs_background": "light"
     },
     "output_type": "display_data"
    }
   ],
   "source": [
    "pc_sort=pc.sort\n",
    "#print(pc_sort)\n",
    "y=data1['ratio']\n",
    "x=[i for i in range(0,1461)]\n",
    "data1=data1.sort_values(['ratio'])\n",
    "plt.scatter(x,y)"
   ]
  },
  {
   "cell_type": "code",
   "execution_count": 18,
   "metadata": {},
   "outputs": [
    {
     "name": "stdout",
     "output_type": "stream",
     "text": [
      "0.01459152972760593\n",
      "0.04984903459813204\n",
      "0.2836607570675611\n"
     ]
    }
   ],
   "source": [
    "print(np.percentile(data1['ratio'], 33))\n",
    "print(np.percentile(data1['ratio'], 66))\n",
    "print(np.percentile(data1['ratio'], 100))"
   ]
  },
  {
   "cell_type": "code",
   "execution_count": 19,
   "metadata": {},
   "outputs": [
    {
     "name": "stdout",
     "output_type": "stream",
     "text": [
      "1461\n",
      "(497, 8)\n",
      "(484, 8)\n",
      "(480, 8)\n"
     ]
    }
   ],
   "source": [
    "l=list()\n",
    "for i in data1.index:\n",
    "    if(data1['ratio'][i]>0.0498):\n",
    "        l.append(\"High\")\n",
    "    elif(data1['ratio'][i]<0.0145):\n",
    "        l.append(\"Low\")\n",
    "    else:\n",
    "        l.append(\"Medium\")\n",
    "print(len(l))\n",
    "data1[\"popularity\"]=l\n",
    "print(data1[data1[\"popularity\"]==\"High\"].shape)\n",
    "print(data1[data1[\"popularity\"]==\"Medium\"].shape)\n",
    "print(data1[data1[\"popularity\"]==\"Low\"].shape)"
   ]
  },
  {
   "cell_type": "code",
   "execution_count": 20,
   "metadata": {},
   "outputs": [],
   "source": [
    "from sklearn import preprocessing\n",
    "le = preprocessing.LabelEncoder()\n",
    "data1['popularity'] = le.fit_transform(data1['popularity'])\n",
    "data1=data1.dropna()"
   ]
  },
  {
   "cell_type": "code",
   "execution_count": 21,
   "metadata": {},
   "outputs": [
    {
     "data": {
      "text/html": [
       "<div>\n",
       "<style scoped>\n",
       "    .dataframe tbody tr th:only-of-type {\n",
       "        vertical-align: middle;\n",
       "    }\n",
       "\n",
       "    .dataframe tbody tr th {\n",
       "        vertical-align: top;\n",
       "    }\n",
       "\n",
       "    .dataframe thead th {\n",
       "        text-align: right;\n",
       "    }\n",
       "</style>\n",
       "<table border=\"1\" class=\"dataframe\">\n",
       "  <thead>\n",
       "    <tr style=\"text-align: right;\">\n",
       "      <th></th>\n",
       "      <th>viewCount</th>\n",
       "      <th>likeCount</th>\n",
       "      <th>commentCount</th>\n",
       "      <th>dislikeCount</th>\n",
       "      <th>subscriberCount</th>\n",
       "      <th>categoryId</th>\n",
       "      <th>ratio</th>\n",
       "      <th>popularity</th>\n",
       "    </tr>\n",
       "  </thead>\n",
       "  <tbody>\n",
       "    <tr>\n",
       "      <th>0</th>\n",
       "      <td>2597667.0</td>\n",
       "      <td>1064.0</td>\n",
       "      <td>27.0</td>\n",
       "      <td>406.0</td>\n",
       "      <td>32700.0</td>\n",
       "      <td>24.0</td>\n",
       "      <td>0.000410</td>\n",
       "      <td>1</td>\n",
       "    </tr>\n",
       "    <tr>\n",
       "      <th>1</th>\n",
       "      <td>1743338.0</td>\n",
       "      <td>1550.0</td>\n",
       "      <td>244.0</td>\n",
       "      <td>892.0</td>\n",
       "      <td>6100.0</td>\n",
       "      <td>22.0</td>\n",
       "      <td>0.000889</td>\n",
       "      <td>1</td>\n",
       "    </tr>\n",
       "    <tr>\n",
       "      <th>2</th>\n",
       "      <td>4881362.0</td>\n",
       "      <td>5300.0</td>\n",
       "      <td>849.0</td>\n",
       "      <td>375.0</td>\n",
       "      <td>3860000.0</td>\n",
       "      <td>24.0</td>\n",
       "      <td>0.001086</td>\n",
       "      <td>1</td>\n",
       "    </tr>\n",
       "    <tr>\n",
       "      <th>3</th>\n",
       "      <td>4964603.0</td>\n",
       "      <td>5675.0</td>\n",
       "      <td>278.0</td>\n",
       "      <td>1702.0</td>\n",
       "      <td>289000.0</td>\n",
       "      <td>1.0</td>\n",
       "      <td>0.001143</td>\n",
       "      <td>1</td>\n",
       "    </tr>\n",
       "    <tr>\n",
       "      <th>4</th>\n",
       "      <td>3138599.0</td>\n",
       "      <td>3889.0</td>\n",
       "      <td>152.0</td>\n",
       "      <td>1729.0</td>\n",
       "      <td>62600.0</td>\n",
       "      <td>24.0</td>\n",
       "      <td>0.001239</td>\n",
       "      <td>1</td>\n",
       "    </tr>\n",
       "    <tr>\n",
       "      <th>...</th>\n",
       "      <td>...</td>\n",
       "      <td>...</td>\n",
       "      <td>...</td>\n",
       "      <td>...</td>\n",
       "      <td>...</td>\n",
       "      <td>...</td>\n",
       "      <td>...</td>\n",
       "      <td>...</td>\n",
       "    </tr>\n",
       "    <tr>\n",
       "      <th>1456</th>\n",
       "      <td>47735.0</td>\n",
       "      <td>11620.0</td>\n",
       "      <td>1358.0</td>\n",
       "      <td>498.0</td>\n",
       "      <td>259000.0</td>\n",
       "      <td>24.0</td>\n",
       "      <td>0.243427</td>\n",
       "      <td>0</td>\n",
       "    </tr>\n",
       "    <tr>\n",
       "      <th>1457</th>\n",
       "      <td>5523.0</td>\n",
       "      <td>1346.0</td>\n",
       "      <td>182.0</td>\n",
       "      <td>24.0</td>\n",
       "      <td>32900.0</td>\n",
       "      <td>22.0</td>\n",
       "      <td>0.243708</td>\n",
       "      <td>0</td>\n",
       "    </tr>\n",
       "    <tr>\n",
       "      <th>1458</th>\n",
       "      <td>76054.0</td>\n",
       "      <td>18969.0</td>\n",
       "      <td>2676.0</td>\n",
       "      <td>133.0</td>\n",
       "      <td>1540000.0</td>\n",
       "      <td>23.0</td>\n",
       "      <td>0.249415</td>\n",
       "      <td>0</td>\n",
       "    </tr>\n",
       "    <tr>\n",
       "      <th>1459</th>\n",
       "      <td>15417.0</td>\n",
       "      <td>4209.0</td>\n",
       "      <td>711.0</td>\n",
       "      <td>69.0</td>\n",
       "      <td>66400.0</td>\n",
       "      <td>23.0</td>\n",
       "      <td>0.273010</td>\n",
       "      <td>0</td>\n",
       "    </tr>\n",
       "    <tr>\n",
       "      <th>1460</th>\n",
       "      <td>6261.0</td>\n",
       "      <td>1776.0</td>\n",
       "      <td>252.0</td>\n",
       "      <td>13.0</td>\n",
       "      <td>416000.0</td>\n",
       "      <td>1.0</td>\n",
       "      <td>0.283661</td>\n",
       "      <td>0</td>\n",
       "    </tr>\n",
       "  </tbody>\n",
       "</table>\n",
       "<p>1461 rows × 8 columns</p>\n",
       "</div>"
      ],
      "text/plain": [
       "      viewCount  likeCount  commentCount  dislikeCount  subscriberCount  \\\n",
       "0     2597667.0     1064.0          27.0         406.0          32700.0   \n",
       "1     1743338.0     1550.0         244.0         892.0           6100.0   \n",
       "2     4881362.0     5300.0         849.0         375.0        3860000.0   \n",
       "3     4964603.0     5675.0         278.0        1702.0         289000.0   \n",
       "4     3138599.0     3889.0         152.0        1729.0          62600.0   \n",
       "...         ...        ...           ...           ...              ...   \n",
       "1456    47735.0    11620.0        1358.0         498.0         259000.0   \n",
       "1457     5523.0     1346.0         182.0          24.0          32900.0   \n",
       "1458    76054.0    18969.0        2676.0         133.0        1540000.0   \n",
       "1459    15417.0     4209.0         711.0          69.0          66400.0   \n",
       "1460     6261.0     1776.0         252.0          13.0         416000.0   \n",
       "\n",
       "      categoryId     ratio  popularity  \n",
       "0           24.0  0.000410           1  \n",
       "1           22.0  0.000889           1  \n",
       "2           24.0  0.001086           1  \n",
       "3            1.0  0.001143           1  \n",
       "4           24.0  0.001239           1  \n",
       "...          ...       ...         ...  \n",
       "1456        24.0  0.243427           0  \n",
       "1457        22.0  0.243708           0  \n",
       "1458        23.0  0.249415           0  \n",
       "1459        23.0  0.273010           0  \n",
       "1460         1.0  0.283661           0  \n",
       "\n",
       "[1461 rows x 8 columns]"
      ]
     },
     "execution_count": 21,
     "metadata": {},
     "output_type": "execute_result"
    }
   ],
   "source": [
    "data1.reset_index(drop=True, inplace=True)\n",
    "data1"
   ]
  },
  {
   "cell_type": "code",
   "execution_count": null,
   "metadata": {},
   "outputs": [],
   "source": []
  },
  {
   "cell_type": "code",
   "execution_count": 22,
   "metadata": {},
   "outputs": [],
   "source": [
    "X = data1.drop(['popularity','ratio','categoryId'],axis=1)\n",
    "Y=data1['popularity'] \n",
    "from sklearn.model_selection import train_test_split as tts\n",
    "X_train, X_test, Y_train, Y_test = tts(X,Y, test_size = 0.20, shuffle=True)\n",
    "#Feature scaling\n",
    "\n",
    "from sklearn.preprocessing import RobustScaler as RS\n",
    "scaler = RS()\n",
    "scaler.fit(X_train)\n",
    "\n",
    "X_train = scaler.transform(X_train)\n",
    "X_test = scaler.transform(X_test)"
   ]
  },
  {
   "cell_type": "code",
   "execution_count": 23,
   "metadata": {},
   "outputs": [
    {
     "data": {
      "text/plain": [
       "Text(0, 0.5, 'Error Rate')"
      ]
     },
     "execution_count": 23,
     "metadata": {},
     "output_type": "execute_result"
    },
    {
     "data": {
      "image/png": "[encoded data removed]",
      "text/plain": [
       "<Figure size 720x432 with 1 Axes>"
      ]
     },
     "metadata": {
      "needs_background": "light"
     },
     "output_type": "display_data"
    }
   ],
   "source": [
    "from sklearn.metrics import classification_report as cr, confusion_matrix as cm, accuracy_score as acc_s\n",
    "from sklearn.neighbors import KNeighborsClassifier \n",
    "error_rate = []\n",
    "# Will take some time\n",
    "for i in range(1,40):\n",
    " \n",
    "    knn =  KNeighborsClassifier(n_neighbors=i)\n",
    "    knn.fit(X_train,Y_train)\n",
    "    pred_i = knn.predict(X_test)\n",
    "    error_rate.append(np.mean(pred_i != Y_test))\n",
    "plt.figure(figsize=(10,6))\n",
    "plt.plot(range(1,40),error_rate,color='blue', linestyle='dashed', marker='o',markerfacecolor='red', markersize=10)\n",
    "plt.title('Error Rate vs. K Value')\n",
    "plt.xlabel('K')\n",
    "plt.ylabel('Error Rate')"
   ]
  },
  {
   "cell_type": "code",
   "execution_count": 24,
   "metadata": {},
   "outputs": [
    {
     "name": "stdout",
     "output_type": "stream",
     "text": [
      "Maximum accuracy:- 0.7610921501706485 at K = 3\n"
     ]
    },
    {
     "data": {
      "image/png": "[encoded data removed]",
      "text/plain": [
       "<Figure size 720x432 with 1 Axes>"
      ]
     },
     "metadata": {
      "needs_background": "light"
     },
     "output_type": "display_data"
    }
   ],
   "source": [
    "acc = []\n",
    "# Will take some time\n",
    "from sklearn import metrics\n",
    "for i in range(1,40):\n",
    "    neigh = KNeighborsClassifier(n_neighbors = i).fit(X_train,Y_train)\n",
    "    yhat = neigh.predict(X_test)\n",
    "    acc.append(metrics.accuracy_score(Y_test, yhat))\n",
    "plt.figure(figsize=(10,6))\n",
    "plt.plot(range(1,40),acc,color = 'blue',linestyle='dashed', marker='o',markerfacecolor='red', markersize=10)\n",
    "plt.title('accuracy vs. K Value')\n",
    "plt.xlabel('K')\n",
    "plt.ylabel('Accuracy')\n",
    "\n",
    "print(\"Maximum accuracy:-\",max(acc),\"at K =\",acc.index(max(acc)))"
   ]
  },
  {
   "cell_type": "code",
   "execution_count": 25,
   "metadata": {},
   "outputs": [
    {
     "data": {
      "text/plain": [
       "KNeighborsClassifier(n_neighbors=3)"
      ]
     },
     "execution_count": 25,
     "metadata": {},
     "output_type": "execute_result"
    }
   ],
   "source": [
    "#Training \n",
    "\n",
    "from sklearn.neighbors import KNeighborsClassifier as KNC\n",
    "\n",
    "\n",
    "classifier = KNC(n_neighbors = 3 )\n",
    "classifier.fit(X_train,Y_train)"
   ]
  },
  {
   "cell_type": "code",
   "execution_count": 26,
   "metadata": {},
   "outputs": [
    {
     "name": "stdout",
     "output_type": "stream",
     "text": [
      "Confusion Matrix : \n",
      " [[72  1 15]\n",
      " [ 1 80 13]\n",
      " [31 18 62]]\n",
      "\n",
      "\n",
      "Classification report : \n",
      "               precision    recall  f1-score   support\n",
      "\n",
      "           0       0.69      0.82      0.75        88\n",
      "           1       0.81      0.85      0.83        94\n",
      "           2       0.69      0.56      0.62       111\n",
      "\n",
      "    accuracy                           0.73       293\n",
      "   macro avg       0.73      0.74      0.73       293\n",
      "weighted avg       0.73      0.73      0.72       293\n",
      "\n",
      "\n",
      "\n",
      "Accuracy :  73.03754266211604\n"
     ]
    }
   ],
   "source": [
    "Y_pred = classifier.predict(X_test)\n",
    "from sklearn.metrics import classification_report as cr, confusion_matrix as cm, accuracy_score as acc_s\n",
    "\n",
    "print(\"Confusion Matrix : \\n\", cm(Y_test,Y_pred))\n",
    "print(\"\\n\\nClassification report : \\n\", cr(Y_test,Y_pred))\n",
    "print(\"\\n\\nAccuracy : \", acc_s(Y_test,Y_pred)*100)"
   ]
  },
  {
   "cell_type": "code",
   "execution_count": 27,
   "metadata": {},
   "outputs": [
    {
     "name": "stdout",
     "output_type": "stream",
     "text": [
      "0.7354479811376362\n"
     ]
    },
    {
     "data": {
      "text/plain": [
       "0.8037305174618624"
      ]
     },
     "execution_count": 27,
     "metadata": {},
     "output_type": "execute_result"
    }
   ],
   "source": [
    "from sklearn.model_selection import cross_val_score\n",
    "def Average(lst): \n",
    "    return sum(lst) / len(lst) \n",
    "x=cross_val_score(classifier,X_train,Y_train,cv=10)\n",
    "avg_score = Average(x)\n",
    "print(avg_score)\n",
    "from sklearn import preprocessing\n",
    "from sklearn.metrics import roc_auc_score\n",
    "def multiclass_roc_auc_score(y_test, y_pred, average=\"macro\"):\n",
    "    lb = preprocessing.LabelBinarizer()\n",
    "    lb.fit(y_test)\n",
    "    y_test = lb.transform(y_test)\n",
    "    y_pred = lb.transform(y_pred)\n",
    "    return roc_auc_score(y_test, y_pred, average=average)\n",
    "multiclass_roc_auc_score(Y_test,Y_pred)"
   ]
  },
  {
   "cell_type": "code",
   "execution_count": 28,
   "metadata": {},
   "outputs": [],
   "source": [
    "from sklearn.tree import DecisionTreeClassifier\n",
    "classifier = DecisionTreeClassifier()\n",
    "classifier.fit(X_train, Y_train)\n",
    "y_pred = classifier.predict(X_test)\n",
    "#classifier._params_"
   ]
  },
  {
   "cell_type": "code",
   "execution_count": null,
   "metadata": {},
   "outputs": [],
   "source": [
    "\n"
   ]
  },
  {
   "cell_type": "code",
   "execution_count": 29,
   "metadata": {},
   "outputs": [
    {
     "name": "stdout",
     "output_type": "stream",
     "text": [
      "[[82  0  6]\n",
      " [ 0 82 12]\n",
      " [16 20 75]]\n",
      "              precision    recall  f1-score   support\n",
      "\n",
      "           0       0.84      0.93      0.88        88\n",
      "           1       0.80      0.87      0.84        94\n",
      "           2       0.81      0.68      0.74       111\n",
      "\n",
      "    accuracy                           0.82       293\n",
      "   macro avg       0.82      0.83      0.82       293\n",
      "weighted avg       0.81      0.82      0.81       293\n",
      "\n",
      "\n",
      "\n",
      "Accuracy :  0.8156996587030717\n"
     ]
    }
   ],
   "source": [
    "from sklearn.metrics import classification_report, confusion_matrix\n",
    "print(confusion_matrix(Y_test, y_pred))\n",
    "print(classification_report(Y_test, y_pred))\n",
    "print(\"\\n\\nAccuracy : \", acc_s(Y_test,y_pred))"
   ]
  },
  {
   "cell_type": "code",
   "execution_count": 30,
   "metadata": {},
   "outputs": [
    {
     "name": "stdout",
     "output_type": "stream",
     "text": [
      "0.8569997052755675\n"
     ]
    },
    {
     "data": {
      "text/plain": [
       "0.8670636485123424"
      ]
     },
     "execution_count": 30,
     "metadata": {},
     "output_type": "execute_result"
    }
   ],
   "source": [
    "#dec tree\n",
    "x_dec_tree=cross_val_score(classifier,X_train,Y_train,cv=10)\n",
    "avg_score = Average(x_dec_tree)\n",
    "print(avg_score)\n",
    "multiclass_roc_auc_score(Y_test,y_pred)"
   ]
  },
  {
   "cell_type": "code",
   "execution_count": 31,
   "metadata": {},
   "outputs": [
    {
     "name": "stdout",
     "output_type": "stream",
     "text": [
      "Confusion Matrix : \n",
      " [[83  0  5]\n",
      " [ 0 86  8]\n",
      " [14 15 82]]\n",
      "\n",
      "\n",
      "Classification report : \n",
      "               precision    recall  f1-score   support\n",
      "\n",
      "           0       0.86      0.94      0.90        88\n",
      "           1       0.85      0.91      0.88        94\n",
      "           2       0.86      0.74      0.80       111\n",
      "\n",
      "    accuracy                           0.86       293\n",
      "   macro avg       0.86      0.87      0.86       293\n",
      "weighted avg       0.86      0.86      0.85       293\n",
      "\n",
      "\n",
      "\n",
      "Accuracy :  85.6655290102389\n",
      "average cross validation score: 0.8793029767167697\n",
      "ROC AUC: 0.896952672527387\n"
     ]
    }
   ],
   "source": [
    "from sklearn.ensemble import RandomForestClassifier\n",
    "r_clf=RandomForestClassifier(random_state=0)\n",
    "r_clf.fit(X_train,Y_train)\n",
    "r_pred=r_clf.predict(X_test)\n",
    "print(\"Confusion Matrix : \\n\", cm(Y_test,r_pred))\n",
    "print(\"\\n\\nClassification report : \\n\", cr(Y_test,r_pred))\n",
    "print(\"\\n\\nAccuracy : \", acc_s(Y_test,r_pred)*100)\n",
    "from sklearn.model_selection import cross_val_score\n",
    "x_random_forest=cross_val_score(r_clf,X_train,Y_train,cv=10)\n",
    "avg_score_randomforest = Average(x_random_forest)\n",
    "print(\"average cross validation score:\",avg_score_randomforest)\n",
    "print(\"ROC AUC:\",multiclass_roc_auc_score(Y_test,r_pred))"
   ]
  },
  {
   "cell_type": "code",
   "execution_count": null,
   "metadata": {},
   "outputs": [],
   "source": [
    "\n"
   ]
  },
  {
   "cell_type": "code",
   "execution_count": 97,
   "metadata": {},
   "outputs": [
    {
     "name": "stdout",
     "output_type": "stream",
     "text": [
      "Fitting 3 folds for each of 100 candidates, totalling 300 fits\n"
     ]
    },
    {
     "name": "stderr",
     "output_type": "stream",
     "text": [
      "[Parallel(n_jobs=-1)]: Using backend LokyBackend with 4 concurrent workers.\n",
      "[Parallel(n_jobs=-1)]: Done  33 tasks      | elapsed:   49.0s\n",
      "[Parallel(n_jobs=-1)]: Done 154 tasks      | elapsed:  3.7min\n",
      "[Parallel(n_jobs=-1)]: Done 300 out of 300 | elapsed:  7.4min finished\n"
     ]
    },
    {
     "data": {
      "text/plain": [
       "RandomizedSearchCV(cv=3, estimator=RandomForestClassifier(), n_iter=100,\n",
       "                   n_jobs=-1,\n",
       "                   param_distributions={'bootstrap': [True, False],\n",
       "                                        'max_depth': [10, 20, 30, 40, 50, 60,\n",
       "                                                      70, 80, 90, 100, 110,\n",
       "                                                      None],\n",
       "                                        'max_features': ['auto', 'sqrt'],\n",
       "                                        'min_samples_leaf': [1, 2, 4],\n",
       "                                        'min_samples_split': [2, 5, 10],\n",
       "                                        'n_estimators': [200, 400, 600, 800,\n",
       "                                                         1000, 1200, 1400, 1600,\n",
       "                                                         1800, 2000]},\n",
       "                   random_state=42, verbose=2)"
      ]
     },
     "execution_count": 97,
     "metadata": {},
     "output_type": "execute_result"
    }
   ],
   "source": [
    "from sklearn.model_selection import RandomizedSearchCV\n",
    "rf = RandomForestClassifier()\n",
    "# Number of trees in random forest\n",
    "n_estimators = [int(x) for x in np.linspace(start = 200, stop = 2000, num = 10)]\n",
    "# Number of features to consider at every split\n",
    "max_features = ['auto', 'sqrt']\n",
    "# Maximum number of levels in tree\n",
    "max_depth = [int(x) for x in np.linspace(10, 110, num = 11)]\n",
    "max_depth.append(None)\n",
    "# Minimum number of samples required to split a node\n",
    "min_samples_split = [2, 5, 10]\n",
    "# Minimum number of samples required at each leaf node\n",
    "min_samples_leaf = [1, 2, 4]\n",
    "# Method of selecting samples for training each tree\n",
    "bootstrap = [True, False]\n",
    "random_grid = {'n_estimators': n_estimators,\n",
    "               'max_features': max_features,\n",
    "               'max_depth': max_depth,\n",
    "               'min_samples_split': min_samples_split,\n",
    "               'min_samples_leaf': min_samples_leaf,\n",
    "               'bootstrap': bootstrap}\n",
    "rf_random = RandomizedSearchCV(estimator = rf, param_distributions = random_grid, n_iter = 100, cv = 3, verbose=2, random_state=42, n_jobs = -1)\n",
    "rf_random.fit(X_train,Y_train)"
   ]
  },
  {
   "cell_type": "code",
   "execution_count": 98,
   "metadata": {},
   "outputs": [],
   "source": [
    "rf_pred1=rf_random.predict(X_test)"
   ]
  },
  {
   "cell_type": "code",
   "execution_count": 99,
   "metadata": {},
   "outputs": [],
   "source": [
    "x=zip(Y_test,rf_pred1)"
   ]
  },
  {
   "cell_type": "code",
   "execution_count": 100,
   "metadata": {},
   "outputs": [
    {
     "data": {
      "text/plain": [
       "((1, 1),\n",
       " (2, 0),\n",
       " (0, 0),\n",
       " (0, 0),\n",
       " (2, 2),\n",
       " (2, 2),\n",
       " (0, 0),\n",
       " (0, 0),\n",
       " (0, 0),\n",
       " (0, 0),\n",
       " (0, 0),\n",
       " (2, 2),\n",
       " (1, 2),\n",
       " (2, 2),\n",
       " (0, 0),\n",
       " (0, 0),\n",
       " (0, 0),\n",
       " (1, 1),\n",
       " (2, 2),\n",
       " (1, 1),\n",
       " (1, 1),\n",
       " (0, 0),\n",
       " (0, 0),\n",
       " (0, 0),\n",
       " (1, 1),\n",
       " (1, 1),\n",
       " (0, 0),\n",
       " (0, 0),\n",
       " (2, 0),\n",
       " (1, 1),\n",
       " (2, 2),\n",
       " (0, 0),\n",
       " (2, 2),\n",
       " (2, 2),\n",
       " (2, 2),\n",
       " (2, 2),\n",
       " (1, 1),\n",
       " (0, 2),\n",
       " (0, 0),\n",
       " (2, 0),\n",
       " (0, 0),\n",
       " (2, 2),\n",
       " (0, 0),\n",
       " (1, 1),\n",
       " (1, 1),\n",
       " (2, 2),\n",
       " (2, 2),\n",
       " (2, 2),\n",
       " (2, 2),\n",
       " (2, 2),\n",
       " (1, 1),\n",
       " (1, 1),\n",
       " (0, 0),\n",
       " (2, 2),\n",
       " (0, 2),\n",
       " (0, 0),\n",
       " (2, 2),\n",
       " (0, 0),\n",
       " (0, 0),\n",
       " (0, 0),\n",
       " (1, 1),\n",
       " (1, 1),\n",
       " (2, 2),\n",
       " (0, 0),\n",
       " (0, 0),\n",
       " (1, 2),\n",
       " (0, 0),\n",
       " (1, 1),\n",
       " (0, 0),\n",
       " (0, 0),\n",
       " (1, 1),\n",
       " (2, 2),\n",
       " (0, 0),\n",
       " (2, 2),\n",
       " (1, 1),\n",
       " (2, 2),\n",
       " (2, 2),\n",
       " (2, 0),\n",
       " (0, 0),\n",
       " (0, 0),\n",
       " (0, 0),\n",
       " (1, 1),\n",
       " (2, 2),\n",
       " (1, 1),\n",
       " (2, 2),\n",
       " (1, 2),\n",
       " (0, 0),\n",
       " (1, 1),\n",
       " (2, 2),\n",
       " (2, 2),\n",
       " (2, 0),\n",
       " (2, 2),\n",
       " (0, 0),\n",
       " (0, 0),\n",
       " (0, 0),\n",
       " (2, 1),\n",
       " (1, 1),\n",
       " (2, 1),\n",
       " (2, 1),\n",
       " (0, 0),\n",
       " (0, 0),\n",
       " (1, 1),\n",
       " (2, 2),\n",
       " (1, 1),\n",
       " (1, 1),\n",
       " (2, 2),\n",
       " (2, 0),\n",
       " (1, 1),\n",
       " (0, 0),\n",
       " (1, 1),\n",
       " (0, 0),\n",
       " (0, 0),\n",
       " (2, 0),\n",
       " (0, 0),\n",
       " (0, 0),\n",
       " (0, 0),\n",
       " (0, 0),\n",
       " (1, 1),\n",
       " (0, 0),\n",
       " (2, 2),\n",
       " (1, 1),\n",
       " (2, 2),\n",
       " (1, 1),\n",
       " (2, 2),\n",
       " (2, 2),\n",
       " (0, 0),\n",
       " (0, 0),\n",
       " (0, 0),\n",
       " (0, 0),\n",
       " (0, 0),\n",
       " (0, 0),\n",
       " (0, 0),\n",
       " (2, 2),\n",
       " (1, 1),\n",
       " (0, 0),\n",
       " (2, 2),\n",
       " (1, 1),\n",
       " (1, 1),\n",
       " (2, 2),\n",
       " (2, 2),\n",
       " (0, 0),\n",
       " (0, 0),\n",
       " (1, 1),\n",
       " (2, 2),\n",
       " (0, 0),\n",
       " (2, 2),\n",
       " (0, 0),\n",
       " (2, 2),\n",
       " (0, 0),\n",
       " (1, 1),\n",
       " (1, 1),\n",
       " (0, 0),\n",
       " (0, 2),\n",
       " (1, 1),\n",
       " (0, 0),\n",
       " (1, 1),\n",
       " (2, 2),\n",
       " (1, 1),\n",
       " (0, 0),\n",
       " (0, 0),\n",
       " (0, 0),\n",
       " (0, 0),\n",
       " (2, 2),\n",
       " (2, 2),\n",
       " (2, 2),\n",
       " (2, 2),\n",
       " (0, 0),\n",
       " (0, 0),\n",
       " (2, 1),\n",
       " (1, 1),\n",
       " (0, 0),\n",
       " (2, 2),\n",
       " (0, 0),\n",
       " (2, 2),\n",
       " (0, 0),\n",
       " (1, 1),\n",
       " (0, 0),\n",
       " (1, 1),\n",
       " (2, 2),\n",
       " (1, 1),\n",
       " (1, 1),\n",
       " (2, 2),\n",
       " (2, 2),\n",
       " (1, 1),\n",
       " (0, 0),\n",
       " (2, 2),\n",
       " (2, 2),\n",
       " (0, 0),\n",
       " (2, 2),\n",
       " (0, 0),\n",
       " (0, 0),\n",
       " (2, 2),\n",
       " (1, 1),\n",
       " (1, 1),\n",
       " (0, 0),\n",
       " (2, 2),\n",
       " (2, 2),\n",
       " (2, 2),\n",
       " (0, 0),\n",
       " (1, 1),\n",
       " (1, 1),\n",
       " (2, 2),\n",
       " (1, 1),\n",
       " (2, 2),\n",
       " (1, 1),\n",
       " (2, 2),\n",
       " (0, 0),\n",
       " (2, 2),\n",
       " (2, 2),\n",
       " (1, 1),\n",
       " (2, 2),\n",
       " (0, 2),\n",
       " (1, 1),\n",
       " (1, 1),\n",
       " (1, 2),\n",
       " (0, 0),\n",
       " (0, 0),\n",
       " (1, 1),\n",
       " (0, 0),\n",
       " (1, 1),\n",
       " (2, 2),\n",
       " (2, 2),\n",
       " (2, 2),\n",
       " (1, 1),\n",
       " (2, 2),\n",
       " (0, 0),\n",
       " (0, 0),\n",
       " (2, 2),\n",
       " (2, 1),\n",
       " (2, 2),\n",
       " (2, 2),\n",
       " (2, 1),\n",
       " (0, 0),\n",
       " (2, 2),\n",
       " (1, 1),\n",
       " (1, 1),\n",
       " (0, 0),\n",
       " (0, 0),\n",
       " (1, 1),\n",
       " (1, 1),\n",
       " (1, 1),\n",
       " (1, 2),\n",
       " (2, 1),\n",
       " (1, 1),\n",
       " (2, 2),\n",
       " (0, 0),\n",
       " (1, 1),\n",
       " (2, 2),\n",
       " (1, 2),\n",
       " (2, 2),\n",
       " (2, 2),\n",
       " (2, 1),\n",
       " (2, 2),\n",
       " (0, 0),\n",
       " (2, 2),\n",
       " (1, 1),\n",
       " (2, 2),\n",
       " (0, 0),\n",
       " (1, 1),\n",
       " (2, 2),\n",
       " (0, 0),\n",
       " (2, 2),\n",
       " (1, 1),\n",
       " (1, 1),\n",
       " (2, 2),\n",
       " (0, 0),\n",
       " (0, 0),\n",
       " (1, 1),\n",
       " (1, 1),\n",
       " (2, 2),\n",
       " (0, 0),\n",
       " (1, 1),\n",
       " (2, 2),\n",
       " (1, 1),\n",
       " (1, 1),\n",
       " (0, 0),\n",
       " (1, 1),\n",
       " (2, 2),\n",
       " (0, 0),\n",
       " (0, 0),\n",
       " (1, 1),\n",
       " (0, 2),\n",
       " (2, 2),\n",
       " (0, 0),\n",
       " (1, 1),\n",
       " (0, 0),\n",
       " (1, 1),\n",
       " (2, 2),\n",
       " (0, 0),\n",
       " (2, 2),\n",
       " (2, 2),\n",
       " (2, 2),\n",
       " (1, 1))"
      ]
     },
     "execution_count": 100,
     "metadata": {},
     "output_type": "execute_result"
    }
   ],
   "source": [
    "tuple(x)"
   ]
  },
  {
   "cell_type": "code",
   "execution_count": 101,
   "metadata": {},
   "outputs": [
    {
     "name": "stdout",
     "output_type": "stream",
     "text": [
      "Confusion Matrix : \n",
      " [[100   0   5]\n",
      " [  0  77   6]\n",
      " [  7   8  90]]\n",
      "\n",
      "\n",
      "Classification report : \n",
      "               precision    recall  f1-score   support\n",
      "\n",
      "           0       0.93      0.95      0.94       105\n",
      "           1       0.91      0.93      0.92        83\n",
      "           2       0.89      0.86      0.87       105\n",
      "\n",
      "    accuracy                           0.91       293\n",
      "   macro avg       0.91      0.91      0.91       293\n",
      "weighted avg       0.91      0.91      0.91       293\n",
      "\n",
      "\n",
      "\n",
      "Accuracy :  91.12627986348123\n"
     ]
    }
   ],
   "source": [
    "#random forest with grid search\n",
    "print(\"Confusion Matrix : \\n\", cm(Y_test,rf_pred1))\n",
    "print(\"\\n\\nClassification report : \\n\", cr(Y_test,rf_pred1))\n",
    "print(\"\\n\\nAccuracy : \", acc_s(Y_test,rf_pred1)*100)"
   ]
  },
  {
   "cell_type": "code",
   "execution_count": 103,
   "metadata": {},
   "outputs": [
    {
     "data": {
      "text/plain": [
       "{'n_estimators': 400,\n",
       " 'min_samples_split': 5,\n",
       " 'min_samples_leaf': 1,\n",
       " 'max_features': 'sqrt',\n",
       " 'max_depth': 100,\n",
       " 'bootstrap': True}"
      ]
     },
     "execution_count": 103,
     "metadata": {},
     "output_type": "execute_result"
    }
   ],
   "source": [
    "rf_random.best_params_"
   ]
  },
  {
   "cell_type": "code",
   "execution_count": 104,
   "metadata": {},
   "outputs": [],
   "source": [
    "import pickle\n",
    "pickle.dump(rf_random, open('modelfin.pkl','wb'))"
   ]
  },
  {
   "cell_type": "code",
   "execution_count": 48,
   "metadata": {},
   "outputs": [
    {
     "name": "stdout",
     "output_type": "stream",
     "text": [
      "Confusion Matrix : \n",
      " [[ 18   1  12]\n",
      " [  0 198   7]\n",
      " [  3   8  46]]\n",
      "\n",
      "\n",
      "Classification report : \n",
      "               precision    recall  f1-score   support\n",
      "\n",
      "           0       0.86      0.58      0.69        31\n",
      "           1       0.96      0.97      0.96       205\n",
      "           2       0.71      0.81      0.75        57\n",
      "\n",
      "    accuracy                           0.89       293\n",
      "   macro avg       0.84      0.78      0.80       293\n",
      "weighted avg       0.90      0.89      0.89       293\n",
      "\n",
      "\n",
      "\n",
      "Accuracy :  89.419795221843\n",
      "average cross validation score 0.8860963748894782\n",
      "ROC-AUC 0.8598807966930281\n"
     ]
    }
   ],
   "source": [
    "from sklearn.ensemble import GradientBoostingClassifier\n",
    "r_gb=GradientBoostingClassifier(random_state=0,learning_rate=0.01,n_estimators=1000,max_depth=4)\n",
    "r_gb.fit(X_train,Y_train)\n",
    "r_gb_pred=r_gb.predict(X_test)\n",
    "print(\"Confusion Matrix : \\n\", cm(Y_test,r_gb_pred))\n",
    "print(\"\\n\\nClassification report : \\n\", cr(Y_test,r_gb_pred))\n",
    "print(\"\\n\\nAccuracy : \", acc_s(Y_test,r_gb_pred)*100)\n",
    "from sklearn.model_selection import cross_val_score\n",
    "x_gb=cross_val_score(r_gb,X_train,Y_train,cv=10)\n",
    "avg_score_gb = Average(x_gb)\n",
    "print(\"average cross validation score\",avg_score_gb)\n",
    "#from sklearn.metrics import roc_auc_score\n",
    "from sklearn import preprocessing\n",
    "from sklearn.metrics import roc_auc_score\n",
    "def multiclass_roc_auc_score(y_test, y_pred, average=\"macro\"):\n",
    "    lb = preprocessing.LabelBinarizer()\n",
    "    lb.fit(y_test)\n",
    "    y_test = lb.transform(y_test)\n",
    "    y_pred = lb.transform(y_pred)\n",
    "    return roc_auc_score(y_test, y_pred, average=average)\n",
    "print(\"ROC-AUC\",multiclass_roc_auc_score(Y_test,r_gb_pred))"
   ]
  },
  {
   "cell_type": "code",
   "execution_count": null,
   "metadata": {},
   "outputs": [],
   "source": []
  },
  {
   "cell_type": "code",
   "execution_count": null,
   "metadata": {},
   "outputs": [],
   "source": []
  },
  {
   "cell_type": "code",
   "execution_count": null,
   "metadata": {},
   "outputs": [],
   "source": []
  },
  {
   "cell_type": "code",
   "execution_count": null,
   "metadata": {},
   "outputs": [],
   "source": []
  },
  {
   "cell_type": "code",
   "execution_count": null,
   "metadata": {},
   "outputs": [],
   "source": []
  },
  {
   "cell_type": "code",
   "execution_count": null,
   "metadata": {},
   "outputs": [],
   "source": []
  }
 ],
 "metadata": {
  "kernelspec": {
   "display_name": "Python 3",
   "language": "python",
   "name": "python3"
  },
  "language_info": {
   "codemirror_mode": {
    "name": "ipython",
    "version": 3
   },
   "file_extension": ".py",
   "mimetype": "text/x-python",
   "name": "python",
   "nbconvert_exporter": "python",
   "pygments_lexer": "ipython3",
   "version": "3.7.6"
  }
 },
 "nbformat": 4,
 "nbformat_minor": 4
}
